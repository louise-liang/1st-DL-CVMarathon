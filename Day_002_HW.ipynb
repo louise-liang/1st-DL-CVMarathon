{
 "cells": [
  {
   "cell_type": "markdown",
   "metadata": {},
   "source": [
    "## [作業目標]\n",
    "了解機器學習適合應用的領域與範疇。"
   ]
  },
  {
   "cell_type": "markdown",
   "metadata": {},
   "source": [
    "## [作業重點]\n",
    "透過瞭解機器學習的運作方式，找出非常適用機器學習應用的領域及其原因"
   ]
  },
  {
   "cell_type": "markdown",
   "metadata": {},
   "source": [
    "## 作業\n",
    "請找出一個你認為機器學習可以發光發熱的領域並闡述原因? "
   ]
  },
  {
   "cell_type": "code",
   "execution_count": null,
   "metadata": {},
   "outputs": [],
   "source": [
    "適合領域: 製造產業--品管\n",
    "    在製造產業中最後的把關非常重要，而透過傳統方式的把關，容易因為各種人為因素(如粗心、未抽樣到...等)而存在誤差，這過往是不可避免的情況\n",
    "    但在有了機器學習的現今，我們可以利用機器學習的識別能力來對製造出來的半成品或成品進行控管，提高良率\n",
    "    使甚至可以使用高精細度的機器學習識別來彙整辨別極細微的不良情況發生的狀況和可能原因\n",
    "    同時若是工廠已進入全自動化生產的階段，還能透過不同生產階段的機器串接，鉅細靡遺地找出不良可能發生的環節\n",
    "    如此便可進行針對性的改善和調整，避免出現延誤調整，造成更大的損失。\n"
   ]
  }
 ],
 "metadata": {
  "kernelspec": {
   "display_name": "Python 3",
   "language": "python",
   "name": "python3"
  },
  "language_info": {
   "codemirror_mode": {
    "name": "ipython",
    "version": 3
   },
   "file_extension": ".py",
   "mimetype": "text/x-python",
   "name": "python",
   "nbconvert_exporter": "python",
   "pygments_lexer": "ipython3",
   "version": "3.7.6"
  }
 },
 "nbformat": 4,
 "nbformat_minor": 2
}
