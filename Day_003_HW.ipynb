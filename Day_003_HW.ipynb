{
 "cells": [
  {
   "cell_type": "markdown",
   "metadata": {},
   "source": [
    "## [作業目標]\n",
    "持續接觸有關機器學習的相關專案與最新技術"
   ]
  },
  {
   "cell_type": "markdown",
   "metadata": {},
   "source": [
    "## [作業重點]\n",
    "透過觀察頂尖公司的機器學習文章，來了解各公司是怎麼應用機器學習在實際的專案上"
   ]
  },
  {
   "cell_type": "markdown",
   "metadata": {},
   "source": [
    "## [作業]\n",
    "今天的作業希望大家能夠看看全球機器學習巨頭們在做的機器學習專案。以 google 為例，下圖是 Google 內部專案使用機器學習的數量，隨著時間進展，現在早已超過 2000 個專案在使用機器學習。"
   ]
  },
  {
   "cell_type": "markdown",
   "metadata": {},
   "source": [
    "![image](https://cdn-images-1.medium.com/max/800/1*U_L8qI8RmYS-MOBrYvXhSA.png)"
   ]
  },
  {
   "cell_type": "markdown",
   "metadata": {},
   "source": [
    "底下幫同學整理幾間知名企業的 blog 或機器學習網站 (自行搜尋也可)，這些網站都會整理最新的機器學習專案或者是技術文章，請挑選一篇文章閱讀並試著回答\n",
    "1. 專案的目標？ (要解決什麼問題）\n",
    "2. 使用的技術是？ (只需知道名稱即可，例如：使用 CNN 卷積神經網路做影像分類)\n",
    "3. 資料來源？ "
   ]
  },
  {
   "cell_type": "markdown",
   "metadata": {},
   "source": [
    "- [Google AI blog](https://ai.googleblog.com/)\n",
    "- [Facebook Research blog](https://research.fb.com/blog/)\n",
    "- [Apple machine learning journal](https://machinelearning.apple.com/)\n",
    "- [機器之心](https://www.jiqizhixin.com/)\n",
    "- [雷鋒網](http://www.leiphone.com/category/ai)"
   ]
  },
  {
   "cell_type": "markdown",
   "metadata": {},
   "source": [
    "[作業內容]\n",
    "網名:谷歌新研究：让失语者在视频会议中用手语自然交流！\n",
    "網址:https://www.leiphone.com/news/202010/jrtHn5IrDebeHoCY.html\n",
    "1.專案的目標？ (要解決什麼問題）\n",
    "\n",
    "讓視頻會議系統可以辨別“手語发言人”，以讓手語使用者可以順利地進行視訊會議\n",
    "由於大多數視訊會議系統會自動跟蹤講話人提示視窗，對於手語交流者而言，他們卻很難輕鬆有效地進行溝通，\n",
    "因此希望能夠透過模型來使得視訊會議系統能更好的追蹤手語發言人的動態。\n",
    "\n",
    "2.使用的技術是？ (只需知道名稱即可，例如：使用 CNN 卷積神經網路做影像分類)\n",
    "(1)人體姿態估計模型PoseNet  去識別人體關鍵特徵點\n",
    "(2)線性回歸模型和長短期記憶網路（LSTM）架構，使用光流數預測人體手勢何時發出\n",
    "當手勢檢測模型確定使用者正在進行手語交流時，它會通過虛擬音訊電纜傳遞超聲音訊，任何視訊會議系統都可檢\n",
    "測到該音訊，就好像手語交流者正在“講話”一樣。從而達到識別手勢發言人進行畫面追蹤的效果\n",
    "\n",
    "3.資料來源？\n",
    "(1)德語手語語料庫（DGS）包含人體手勢的長視頻（含跨度注釋）\n",
    "(2)用户体验反馈调查，透過調研進行實際應用測試"
   ]
  },
  {
   "cell_type": "code",
   "execution_count": null,
   "metadata": {},
   "outputs": [],
   "source": []
  }
 ],
 "metadata": {
  "kernelspec": {
   "display_name": "Python 3",
   "language": "python",
   "name": "python3"
  },
  "language_info": {
   "codemirror_mode": {
    "name": "ipython",
    "version": 3
   },
   "file_extension": ".py",
   "mimetype": "text/x-python",
   "name": "python",
   "nbconvert_exporter": "python",
   "pygments_lexer": "ipython3",
   "version": "3.7.0"
  }
 },
 "nbformat": 4,
 "nbformat_minor": 2
}
